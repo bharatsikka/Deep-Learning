{
 "cells": [
  {
   "cell_type": "markdown",
   "metadata": {},
   "source": [
    "# CS5950 Course Project\n",
    "\n",
    "This project recaps and systematises work that has been done in practical sessions.  The aim of the project is to give you the experience of trying to develop a neural network classifier (or regressor), involving setting up a model, optimising the amount of regularisatio, investigating its performance, and devising a new model. \n",
    "\n",
    "You should do your work in this notebook, filling in the sections below. To do the work, you may re-use code from ***any of the lab-session sheets provided so far***. (In fact, you should be able to do nearly the entire project using code taken from previous lab sessions.) \n",
    "\n",
    "Please complete this workbook and submit it on Moodle, with all outputs (numbers and graphs) visible and included. \n",
    "\n",
    "The deadline for this assignment is **Friday March 29th, 23:59pm**\n",
    "\n",
    "This project has **5%** of the marks of the course.\n",
    "\n",
    "Please write your student number **here**:   100904619  \n",
    "so that I have an identifier of which worksheet I am marking, to prevent any confusion! (I have to download your notebooks before marking them, so I don't want to accidentally give credit for your notebook to somebody else...) "
   ]
  },
  {
   "cell_type": "markdown",
   "metadata": {},
   "source": [
    "## Set up dataset\n",
    "\n",
    "You may choose any of the datasets included with Keras, or used in the course so far (including, for example, the percolation data). (It is a free country and you may use any other data you wish.)\n",
    "\n",
    "A safe choice would be either the MNIST data or the MNIST-fashion data, which is a drop-in replacement for MNIST (same size data format, same number of classes, same number of training and test examples). \n",
    "\n",
    "In setting up the data, you should set up a training set and a test set. The test set should be large enough to give a reasonably accurate assessment of the error-rate (or loss) of your models: preferably at least 10,000 examples.\n",
    "\n",
    "For the learning curve experiment (below), you will need to construct training sets of different sizes, with the largest at least 10 times the smallest. For the MNIST data, for example, your smallest training set might be 500, with sizes 500, 1000, 2000, 4000, 8000, 16000, 32000, and perhaps 60000 if you have time. (You get no extra marks for doing very long experiments.) "
   ]
  },
  {
   "cell_type": "markdown",
   "metadata": {},
   "source": [
    "## Set up model \n",
    "\n",
    "Set up a Keras model (you may find it helpful to keep it simple and fast to train). Train on an intermediate-sized dataset (if you are using MNIST, say 2000 or 4000). \n",
    "\n",
    "\n",
    "Plot the loss and error rate as a function of training epochs. \n",
    "\n",
    "\n",
    "###  1.  Assessment of initial model:    ***12 marks***\n",
    "\n",
    "Ensure that your model is complex enough to *overfit* the training data: that is the loss/error-rate on the training set should be below your target loss/error-rate, and the loss/error-rate on the validation set should be higher than this (preferably higher than your target error-rate). "
   ]
  },
  {
   "cell_type": "code",
   "execution_count": 179,
   "metadata": {},
   "outputs": [],
   "source": [
    "testacc = []\n"
   ]
  },
  {
   "cell_type": "code",
   "execution_count": 198,
   "metadata": {},
   "outputs": [],
   "source": [
    "# your code here (you can freely used and modify code from course lab-sheets throughout this project)\n",
    "import numpy as np\n",
    "import matplotlib.pyplot as plt\n",
    "import tensorflow as tf\n",
    "from keras.models import Sequential,Model\n",
    "from keras.layers import Input,Dense,Conv2D,MaxPooling2D, Dropout\n",
    "from keras.layers import BatchNormalization, Activation, LeakyReLU, Add, Concatenate, Flatten\n",
    "from keras.regularizers import l1,l2, l1_l2\n",
    "from keras.initializers import truncated_normal, glorot_normal\n",
    "from keras.utils.np_utils import to_categorical\n",
    "from keras.datasets import mnist\n",
    "\n",
    "(x_train,y_train),(x_test,y_test) = mnist.load_data()"
   ]
  },
  {
   "cell_type": "code",
   "execution_count": 199,
   "metadata": {},
   "outputs": [
    {
     "data": {
      "text/plain": [
       "((60000, 10), (10000, 10))"
      ]
     },
     "execution_count": 199,
     "metadata": {},
     "output_type": "execute_result"
    }
   ],
   "source": [
    "import random\n",
    "#x_train[:4000,:,:].shape,y_train[:4000,].shape\n",
    "x_train = x_train.reshape([60000,28,28,1])\n",
    "x_test = x_test.reshape([10000,28,28,1])\n",
    "y_train_oh = to_categorical(y_train)\n",
    "y_test_oh = to_categorical(y_test)\n",
    "y_train_oh.shape, y_test_oh.shape"
   ]
  },
  {
   "cell_type": "code",
   "execution_count": 27,
   "metadata": {},
   "outputs": [
    {
     "name": "stdout",
     "output_type": "stream",
     "text": [
      "WARNING:tensorflow:From D:\\anaconda\\lib\\site-packages\\tensorflow\\python\\framework\\op_def_library.py:263: colocate_with (from tensorflow.python.framework.ops) is deprecated and will be removed in a future version.\n",
      "Instructions for updating:\n",
      "Colocations handled automatically by placer.\n"
     ]
    }
   ],
   "source": [
    "model_1=Sequential()\n",
    "model_1.add(Conv2D(6,(3,3),padding='same',input_shape=(28,28,1)))\n",
    "model_1.add(Activation('relu'))\n",
    "model_1.add(Conv2D(6,(3,3),padding='same'))   \n",
    "model_1.add(Activation('relu'))\n",
    "model_1.add(MaxPooling2D(pool_size=(2,2),strides=None,padding='valid')) \n",
    " \n",
    "model_1.add(Flatten()) \n",
    "model_1.add(Dense(100)) \n",
    "model_1.add(BatchNormalization())   \n",
    "model_1.add(Activation('tanh'))     \n",
    "model_1.add(Dense(100))\n",
    "\n",
    "model_1.add(Activation('tanh'))\n",
    "model_1.add(Dense(100))\n",
    " \n",
    "model_1.add(Activation('tanh'))\n",
    "model_1.add(Dense(100))\n",
    "model_1.add(BatchNormalization())\n",
    "model_1.add(Activation('tanh'))\n",
    "model_1.add(Dense(100))\n",
    "\n",
    "model_1.add(Activation('tanh'))\n",
    "model_1.add(Dense(10))\n",
    "model_1.add(Activation('softmax'))"
   ]
  },
  {
   "cell_type": "code",
   "execution_count": 28,
   "metadata": {},
   "outputs": [],
   "source": [
    "model_1.compile(optimizer='RMSprop',loss='categorical_crossentropy', metrics=['accuracy'])"
   ]
  },
  {
   "cell_type": "code",
   "execution_count": 30,
   "metadata": {},
   "outputs": [
    {
     "data": {
      "text/plain": [
       "array([191., 220., 198., 191., 214., 180., 200., 224., 172., 210.],\n",
       "      dtype=float32)"
      ]
     },
     "execution_count": 30,
     "metadata": {},
     "output_type": "execute_result"
    }
   ],
   "source": [
    "train_size = 2000\n",
    "np.sum( y_train_oh[:train_size,:],axis=0)"
   ]
  },
  {
   "cell_type": "code",
   "execution_count": 31,
   "metadata": {},
   "outputs": [
    {
     "name": "stdout",
     "output_type": "stream",
     "text": [
      "WARNING:tensorflow:From D:\\anaconda\\lib\\site-packages\\tensorflow\\python\\ops\\math_ops.py:3066: to_int32 (from tensorflow.python.ops.math_ops) is deprecated and will be removed in a future version.\n",
      "Instructions for updating:\n",
      "Use tf.cast instead.\n",
      "Train on 2000 samples, validate on 10000 samples\n",
      "Epoch 1/20\n",
      "2000/2000 [==============================] - 11s 6ms/step - loss: 0.6689 - acc: 0.8090 - val_loss: 0.4455 - val_acc: 0.8632\n",
      "Epoch 2/20\n",
      "2000/2000 [==============================] - 8s 4ms/step - loss: 0.2132 - acc: 0.9475 - val_loss: 0.3636 - val_acc: 0.8872\n",
      "Epoch 3/20\n",
      "2000/2000 [==============================] - 8s 4ms/step - loss: 0.1059 - acc: 0.9730 - val_loss: 0.3307 - val_acc: 0.8948\n",
      "Epoch 4/20\n",
      "2000/2000 [==============================] - 8s 4ms/step - loss: 0.0552 - acc: 0.9880 - val_loss: 0.2554 - val_acc: 0.9258\n",
      "Epoch 5/20\n",
      "2000/2000 [==============================] - 8s 4ms/step - loss: 0.0289 - acc: 0.9945 - val_loss: 0.2905 - val_acc: 0.9097\n",
      "Epoch 6/20\n",
      "2000/2000 [==============================] - 8s 4ms/step - loss: 0.0210 - acc: 0.9945 - val_loss: 0.3193 - val_acc: 0.9048\n",
      "Epoch 7/20\n",
      "2000/2000 [==============================] - 8s 4ms/step - loss: 0.0190 - acc: 0.9960 - val_loss: 0.2744 - val_acc: 0.9218\n",
      "Epoch 8/20\n",
      "2000/2000 [==============================] - 8s 4ms/step - loss: 0.0146 - acc: 0.9965 - val_loss: 0.4194 - val_acc: 0.8936\n",
      "Epoch 9/20\n",
      "2000/2000 [==============================] - 8s 4ms/step - loss: 0.0123 - acc: 0.9965 - val_loss: 0.2734 - val_acc: 0.9277\n",
      "Epoch 10/20\n",
      "2000/2000 [==============================] - 8s 4ms/step - loss: 0.0172 - acc: 0.9950 - val_loss: 0.3143 - val_acc: 0.9187\n",
      "Epoch 11/20\n",
      "2000/2000 [==============================] - 8s 4ms/step - loss: 0.0112 - acc: 0.9980 - val_loss: 0.3502 - val_acc: 0.9102\n",
      "Epoch 12/20\n",
      "2000/2000 [==============================] - 8s 4ms/step - loss: 0.0144 - acc: 0.9960 - val_loss: 0.3232 - val_acc: 0.9185\n",
      "Epoch 13/20\n",
      "2000/2000 [==============================] - 8s 4ms/step - loss: 0.0037 - acc: 0.9990 - val_loss: 0.2826 - val_acc: 0.9329\n",
      "Epoch 14/20\n",
      "2000/2000 [==============================] - 8s 4ms/step - loss: 0.0131 - acc: 0.9960 - val_loss: 0.3499 - val_acc: 0.9150\n",
      "Epoch 15/20\n",
      "2000/2000 [==============================] - 8s 4ms/step - loss: 0.0205 - acc: 0.9965 - val_loss: 0.2902 - val_acc: 0.9269\n",
      "Epoch 16/20\n",
      "2000/2000 [==============================] - 8s 4ms/step - loss: 0.0020 - acc: 0.9995 - val_loss: 0.2929 - val_acc: 0.9273\n",
      "Epoch 17/20\n",
      "2000/2000 [==============================] - 8s 4ms/step - loss: 0.0073 - acc: 0.9980 - val_loss: 0.4535 - val_acc: 0.9013\n",
      "Epoch 18/20\n",
      "2000/2000 [==============================] - 8s 4ms/step - loss: 0.0093 - acc: 0.9980 - val_loss: 0.3166 - val_acc: 0.9289TA: 1s - loss: 0.0121 \n",
      "Epoch 19/20\n",
      "2000/2000 [==============================] - 8s 4ms/step - loss: 0.0014 - acc: 1.0000 - val_loss: 0.4496 - val_acc: 0.8917\n",
      "Epoch 20/20\n",
      "2000/2000 [==============================] - 8s 4ms/step - loss: 0.0097 - acc: 0.9980 - val_loss: 0.3354 - val_acc: 0.9224\n"
     ]
    }
   ],
   "source": [
    "history_1 = model_1.fit( x_train[:train_size,:,:,:],y_train_oh[:train_size,:],\n",
    "                        epochs=20, batch_size=64, shuffle=True,\n",
    "                       validation_data=(x_test,y_test_oh))"
   ]
  },
  {
   "cell_type": "code",
   "execution_count": 38,
   "metadata": {},
   "outputs": [
    {
     "data": {
      "text/plain": [
       "0.0776"
      ]
     },
     "execution_count": 38,
     "metadata": {},
     "output_type": "execute_result"
    }
   ],
   "source": [
    "pred = model_1.predict(x_test)\n",
    "predclass = np.argmax(pred, axis=1)\n",
    "prederror = np.not_equal(predclass,y_test)\n",
    "np.mean(y_test!=predclass)"
   ]
  },
  {
   "cell_type": "markdown",
   "metadata": {},
   "source": [
    "### 2.  Regularisation experiment:  ***12 marks***\n",
    "\n",
    "Now select a type of regularisation (which may be L2, L1, L12, or dropout) and train your initial model with different amounts of regularisation. \n",
    "\n",
    "A small amount of regularisation may improve the validation set performance of your overfitted model; too much regularisation may make performance on the validation set worse. \n",
    "\n",
    "Train your model multiple times, applying different amounts of regularisation, and plot a graoph showing the effect of different amounts of regularisation. \n",
    "\n",
    "Plot the amount of regularisation along the x axis, and the validation set performance (loss/error-rate) on the y axis.  How does regularisation affect the performance of your initial network, and what is the optimal amount? "
   ]
  },
  {
   "cell_type": "code",
   "execution_count": 124,
   "metadata": {},
   "outputs": [],
   "source": [
    "# your code here \n",
    "model_1=Sequential()\n",
    "model_1.add(Conv2D(6,(3,3),padding='same',input_shape=(28,28,1)))\n",
    "model_1.add(Activation('relu'))\n",
    "model_1.add(Dropout(0.2))\n",
    "model_1.add(Conv2D(6,(3,3),padding='same'))  # A depth of only 6 convolutional filters here: do we need more to keep the information? \n",
    "model_1.add(Activation('relu'))\n",
    "model_1.add(Dropout(0.2))\n",
    "model_1.add(MaxPooling2D(pool_size=(2,2),strides=None,padding='valid')) \n",
    " \n",
    "model_1.add(Flatten()) \n",
    "model_1.add(Dense(100)) \n",
    "model_1.add(Dropout(0.2))\n",
    "model_1.add(BatchNormalization())   \n",
    "model_1.add(Activation('tanh'))     \n",
    "model_1.add(Dense(100))\n",
    "model_1.add(Dropout(0.2))\n",
    "\n",
    "model_1.add(Activation('tanh'))\n",
    "model_1.add(Dense(100))\n",
    "model_1.add(Dropout(0.2))\n",
    "\n",
    "model_1.add(Activation('tanh'))\n",
    "model_1.add(Dense(100))\n",
    "model_1.add(Dropout(0.2))\n",
    "model_1.add(BatchNormalization())\n",
    "model_1.add(Activation('tanh'))\n",
    "model_1.add(Dense(100))\n",
    "model_1.add(Dropout(0.2))\n",
    "\n",
    "model_1.add(Activation('tanh'))\n",
    "model_1.add(Dense(10))\n",
    "model_1.add(Dropout(0.2))\n",
    "model_1.add(Activation('softmax'))"
   ]
  },
  {
   "cell_type": "code",
   "execution_count": 125,
   "metadata": {},
   "outputs": [
    {
     "name": "stdout",
     "output_type": "stream",
     "text": [
      "Train on 2000 samples, validate on 10000 samples\n",
      "Epoch 1/20\n",
      "2000/2000 [==============================] - 14s 7ms/step - loss: 1.5601 - acc: 0.4780 - val_loss: 0.7779 - val_acc: 0.7453\n",
      "Epoch 2/20\n",
      "2000/2000 [==============================] - 9s 4ms/step - loss: 1.1108 - acc: 0.6380 - val_loss: 0.5062 - val_acc: 0.8500\n",
      "Epoch 3/20\n",
      "2000/2000 [==============================] - 9s 4ms/step - loss: 0.9862 - acc: 0.6760 - val_loss: 0.4830 - val_acc: 0.8439\n",
      "Epoch 4/20\n",
      "2000/2000 [==============================] - 9s 4ms/step - loss: 0.8831 - acc: 0.7005 - val_loss: 0.4016 - val_acc: 0.8775\n",
      "Epoch 5/20\n",
      "2000/2000 [==============================] - 9s 4ms/step - loss: 0.7934 - acc: 0.7205 - val_loss: 0.3754 - val_acc: 0.8885\n",
      "Epoch 6/20\n",
      "2000/2000 [==============================] - 9s 4ms/step - loss: 0.6952 - acc: 0.7460 - val_loss: 0.3424 - val_acc: 0.8998\n",
      "Epoch 7/20\n",
      "2000/2000 [==============================] - 9s 4ms/step - loss: 0.6698 - acc: 0.7525 - val_loss: 0.3247 - val_acc: 0.8998\n",
      "Epoch 8/20\n",
      "2000/2000 [==============================] - 9s 4ms/step - loss: 0.6501 - acc: 0.7635 - val_loss: 0.3301 - val_acc: 0.8957\n",
      "Epoch 9/20\n",
      "2000/2000 [==============================] - 9s 4ms/step - loss: 0.5964 - acc: 0.7715 - val_loss: 0.2500 - val_acc: 0.9261\n",
      "Epoch 10/20\n",
      "2000/2000 [==============================] - 9s 4ms/step - loss: 0.5707 - acc: 0.7745 - val_loss: 0.2847 - val_acc: 0.9188\n",
      "Epoch 11/20\n",
      "2000/2000 [==============================] - 9s 5ms/step - loss: 0.5166 - acc: 0.7945 - val_loss: 0.2433 - val_acc: 0.9303\n",
      "Epoch 12/20\n",
      "2000/2000 [==============================] - 9s 5ms/step - loss: 0.5005 - acc: 0.8125 - val_loss: 0.2748 - val_acc: 0.9189\n",
      "Epoch 13/20\n",
      "2000/2000 [==============================] - 9s 4ms/step - loss: 0.4453 - acc: 0.8280 - val_loss: 0.2676 - val_acc: 0.9258\n",
      "Epoch 14/20\n",
      "2000/2000 [==============================] - 9s 4ms/step - loss: 0.4454 - acc: 0.8315 - val_loss: 0.2785 - val_acc: 0.9219\n",
      "Epoch 15/20\n",
      "2000/2000 [==============================] - 9s 4ms/step - loss: 0.3963 - acc: 0.8340 - val_loss: 0.2882 - val_acc: 0.9217\n",
      "Epoch 16/20\n",
      "2000/2000 [==============================] - 9s 4ms/step - loss: 0.3832 - acc: 0.8495 - val_loss: 0.2361 - val_acc: 0.9356\n",
      "Epoch 17/20\n",
      "2000/2000 [==============================] - 9s 4ms/step - loss: 0.3861 - acc: 0.8420 - val_loss: 0.2545 - val_acc: 0.9298\n",
      "Epoch 18/20\n",
      "2000/2000 [==============================] - 9s 4ms/step - loss: 0.3695 - acc: 0.8505 - val_loss: 0.2512 - val_acc: 0.9327\n",
      "Epoch 19/20\n",
      "2000/2000 [==============================] - 9s 4ms/step - loss: 0.3396 - acc: 0.8595 - val_loss: 0.2573 - val_acc: 0.9332\n",
      "Epoch 20/20\n",
      "2000/2000 [==============================] - 9s 4ms/step - loss: 0.3798 - acc: 0.8380 - val_loss: 0.2048 - val_acc: 0.9462\n"
     ]
    }
   ],
   "source": [
    "model_1.compile(optimizer='RMSprop',loss='categorical_crossentropy', metrics=['accuracy'])\n",
    "train_size = 2000\n",
    "np.sum( y_train_oh[:train_size,:],axis=0)\n",
    "history_1 = model_1.fit( x_train[:train_size,:,:,:],y_train_oh[:train_size,:],\n",
    "                        epochs=20, batch_size=64, shuffle=True,\n",
    "                       validation_data=(x_test,y_test_oh))"
   ]
  },
  {
   "cell_type": "code",
   "execution_count": 126,
   "metadata": {},
   "outputs": [],
   "source": [
    "pred = model_1.predict(x_test)\n",
    "predclass = np.argmax(pred, axis=1)\n",
    "prederror = np.not_equal(predclass,y_test)\n",
    "testacc.append(np.mean(y_test!=predclass))"
   ]
  },
  {
   "cell_type": "code",
   "execution_count": 145,
   "metadata": {},
   "outputs": [
    {
     "data": {
      "text/plain": [
       "[0.0728, 0.0876, 0.0588, 0.0562, 0.0562, 0.0615, 0.06, 0.0538]"
      ]
     },
     "execution_count": 145,
     "metadata": {},
     "output_type": "execute_result"
    }
   ],
   "source": [
    "testacc\n"
   ]
  },
  {
   "cell_type": "code",
   "execution_count": 144,
   "metadata": {},
   "outputs": [
    {
     "data": {
      "text/plain": [
       "Text(0, 0.5, 'Validation set error')"
      ]
     },
     "execution_count": 144,
     "metadata": {},
     "output_type": "execute_result"
    },
    {
     "data": {
      "image/png": "[encoded data removed]",
      "text/plain": [
       "<Figure size 432x288 with 1 Axes>"
      ]
     },
     "metadata": {
      "needs_background": "light"
     },
     "output_type": "display_data"
    }
   ],
   "source": [
    "import matplotlib.pyplot as plt\n",
    "plt.plot(range(1,9),testacc)\n",
    "plt.xlabel('No. of regularizations')\n",
    "plt.ylabel('Validation set error')"
   ]
  },
  {
   "cell_type": "markdown",
   "metadata": {},
   "source": [
    "The regularization initially brings down the error rate, but after adding a few more regularizations the error rate settles at a certain level."
   ]
  },
  {
   "cell_type": "markdown",
   "metadata": {},
   "source": [
    "### 3.  Learning curve experiment:  ***12 marks***\n",
    "\n",
    "Now train your model (with the amount of regularisation you selected) on different amounts of training data. \n",
    "\n",
    "Plot the performance (loss/error-rate) of the model on the validation set against the size of the training set. \n",
    "This is typically best done on a log-log plot. \n",
    "\n",
    "Describe the approximate relationship between the training set size and loss / error-rate.  Does the network performance appear to improve as some power of the amount of data in the training set?  If so, by what power ? \n",
    "\n",
    "For example, a very good rate of improvement is for error-rate to be proportional to $\\dfrac{1}{\\sqrt{n}}$ where $n$ is the training set size.  For your model, the rate of improvement of validation error with training set size may not be as fast as this (or it may, who knows?)  The aim of this exercise is to find out what it actually is. "
   ]
  },
  {
   "cell_type": "code",
   "execution_count": 148,
   "metadata": {},
   "outputs": [],
   "source": [
    "testacc123= []"
   ]
  },
  {
   "cell_type": "code",
   "execution_count": 164,
   "metadata": {},
   "outputs": [],
   "source": [
    "# your code here# your code here \n",
    "model_1=Sequential()\n",
    "model_1.add(Conv2D(6,(3,3),padding='same',input_shape=(28,28,1)))\n",
    "model_1.add(Activation('relu'))\n",
    "model_1.add(Dropout(0.2))\n",
    "model_1.add(Conv2D(6,(3,3),padding='same'))  \n",
    "model_1.add(Activation('relu'))\n",
    "model_1.add(Dropout(0.2))\n",
    "model_1.add(MaxPooling2D(pool_size=(2,2),strides=None,padding='valid')) \n",
    " \n",
    "model_1.add(Flatten()) \n",
    "model_1.add(Dense(100)) \n",
    "model_1.add(Dropout(0.2))\n",
    "model_1.add(BatchNormalization())   \n",
    "model_1.add(Activation('tanh'))     \n",
    "model_1.add(Dense(100))\n",
    "model_1.add(Dropout(0.2))\n",
    "\n",
    "model_1.add(Activation('tanh'))\n",
    "model_1.add(Dense(100))\n",
    "model_1.add(Dropout(0.2))\n",
    " \n",
    "model_1.add(Activation('tanh'))\n",
    "model_1.add(Dense(100))\n",
    "model_1.add(Dropout(0.2))\n",
    "model_1.add(BatchNormalization())\n",
    "model_1.add(Activation('tanh'))\n",
    "model_1.add(Dense(100))\n",
    "model_1.add(Dropout(0.2))\n",
    "\n",
    "model_1.add(Activation('tanh'))\n",
    "model_1.add(Dense(10))\n",
    "model_1.add(Dropout(0.2))\n",
    "model_1.add(Activation('softmax'))"
   ]
  },
  {
   "cell_type": "code",
   "execution_count": 165,
   "metadata": {},
   "outputs": [
    {
     "name": "stdout",
     "output_type": "stream",
     "text": [
      "Train on 10000 samples, validate on 10000 samples\n",
      "Epoch 1/20\n",
      "10000/10000 [==============================] - 29s 3ms/step - loss: 1.0451 - acc: 0.6483 - val_loss: 0.2929 - val_acc: 0.9115\n",
      "Epoch 2/20\n",
      "10000/10000 [==============================] - 23s 2ms/step - loss: 0.6562 - acc: 0.7581 - val_loss: 0.1919 - val_acc: 0.9433\n",
      "Epoch 3/20\n",
      "10000/10000 [==============================] - 23s 2ms/step - loss: 0.5117 - acc: 0.8098 - val_loss: 0.1713 - val_acc: 0.9492\n",
      "Epoch 4/20\n",
      "10000/10000 [==============================] - 23s 2ms/step - loss: 0.4361 - acc: 0.8350 - val_loss: 0.2001 - val_acc: 0.9439\n",
      "Epoch 5/20\n",
      "10000/10000 [==============================] - 24s 2ms/step - loss: 0.4168 - acc: 0.8382 - val_loss: 0.1654 - val_acc: 0.9558\n",
      "Epoch 6/20\n",
      "10000/10000 [==============================] - 23s 2ms/step - loss: 0.3659 - acc: 0.8504 - val_loss: 0.1569 - val_acc: 0.9607\n",
      "Epoch 7/20\n",
      "10000/10000 [==============================] - 23s 2ms/step - loss: 0.3644 - acc: 0.8498 - val_loss: 0.1376 - val_acc: 0.9676\n",
      "Epoch 8/20\n",
      "10000/10000 [==============================] - 23s 2ms/step - loss: 0.3436 - acc: 0.8562 - val_loss: 0.1835 - val_acc: 0.9541\n",
      "Epoch 9/20\n",
      "10000/10000 [==============================] - 24s 2ms/step - loss: 0.3374 - acc: 0.8557 - val_loss: 0.1258 - val_acc: 0.9667\n",
      "Epoch 10/20\n",
      "10000/10000 [==============================] - 23s 2ms/step - loss: 0.3191 - acc: 0.8577 - val_loss: 0.1413 - val_acc: 0.9660\n",
      "Epoch 11/20\n",
      "10000/10000 [==============================] - 23s 2ms/step - loss: 0.3093 - acc: 0.8648 - val_loss: 0.1255 - val_acc: 0.9679\n",
      "Epoch 12/20\n",
      "10000/10000 [==============================] - 23s 2ms/step - loss: 0.3172 - acc: 0.8576 - val_loss: 0.1443 - val_acc: 0.9645\n",
      "Epoch 13/20\n",
      "10000/10000 [==============================] - 24s 2ms/step - loss: 0.3024 - acc: 0.8626 - val_loss: 0.1177 - val_acc: 0.9726\n",
      "Epoch 14/20\n",
      "10000/10000 [==============================] - 23s 2ms/step - loss: 0.3186 - acc: 0.8600 - val_loss: 0.1321 - val_acc: 0.9686\n",
      "Epoch 15/20\n",
      "10000/10000 [==============================] - 24s 2ms/step - loss: 0.2994 - acc: 0.8676 - val_loss: 0.1168 - val_acc: 0.9731\n",
      "Epoch 16/20\n",
      "10000/10000 [==============================] - 23s 2ms/step - loss: 0.2924 - acc: 0.8650 - val_loss: 0.1168 - val_acc: 0.9741\n",
      "Epoch 17/20\n",
      "10000/10000 [==============================] - 24s 2ms/step - loss: 0.2814 - acc: 0.8653 - val_loss: 0.1064 - val_acc: 0.9768\n",
      "Epoch 18/20\n",
      "10000/10000 [==============================] - 23s 2ms/step - loss: 0.2765 - acc: 0.8703 - val_loss: 0.1206 - val_acc: 0.9744\n",
      "Epoch 19/20\n",
      "10000/10000 [==============================] - 23s 2ms/step - loss: 0.2757 - acc: 0.8687 - val_loss: 0.1310 - val_acc: 0.9728\n",
      "Epoch 20/20\n",
      "10000/10000 [==============================] - 23s 2ms/step - loss: 0.2931 - acc: 0.8674 - val_loss: 0.1189 - val_acc: 0.9757\n"
     ]
    }
   ],
   "source": [
    "model_1.compile(optimizer='RMSprop',loss='categorical_crossentropy', metrics=['accuracy'])\n",
    "train_size = 10000\n",
    "np.sum( y_train_oh[:train_size,:],axis=0)\n",
    "history_1 = model_1.fit( x_train[:train_size,:,:,:],y_train_oh[:train_size,:],\n",
    "                        epochs=20, batch_size=64, shuffle=True,\n",
    "                       validation_data=(x_test,y_test_oh))"
   ]
  },
  {
   "cell_type": "code",
   "execution_count": 166,
   "metadata": {},
   "outputs": [
    {
     "data": {
      "text/plain": [
       "[0.0405, 0.0368, 0.0284, 0.0243]"
      ]
     },
     "execution_count": 166,
     "metadata": {},
     "output_type": "execute_result"
    }
   ],
   "source": [
    "pred = model_1.predict(x_test)\n",
    "predclass = np.argmax(pred, axis=1)\n",
    "prederror = np.not_equal(predclass,y_test)\n",
    "testacc123.append(np.mean(y_test!=predclass))\n",
    "testacc123"
   ]
  },
  {
   "cell_type": "code",
   "execution_count": 172,
   "metadata": {},
   "outputs": [
    {
     "data": {
      "text/plain": [
       "Text(0, 0.5, 'Training set size')"
      ]
     },
     "execution_count": 172,
     "metadata": {},
     "output_type": "execute_result"
    },
    {
     "data": {
      "image/png": "[encoded data removed]",
      "text/plain": [
       "<Figure size 432x288 with 1 Axes>"
      ]
     },
     "metadata": {
      "needs_background": "light"
     },
     "output_type": "display_data"
    }
   ],
   "source": [
    "plt.loglog(testacc123,range(4000,12000,2000))\n",
    "plt.xlabel('Validation Error')\n",
    "plt.ylabel('Training set size')"
   ]
  },
  {
   "cell_type": "markdown",
   "metadata": {},
   "source": [
    "Error rate decreases with increasing training set"
   ]
  },
  {
   "cell_type": "markdown",
   "metadata": {},
   "source": [
    "### 4. Second model:   *** 14 marks ***\n",
    "\n",
    "Devise what you believe to be a better neural network architecture for the problem (e.g. for MNIST you might use a fully-connected network for your initial model, and then try a convolutional net for your second model).\n",
    "\n",
    "Repeata sections 2 (regularisation experiment), and determine whether it has better validation set performance than the first model, for an intermediate size of training set (e.g. 2000 or 4000 for the MNIST data). \n",
    "\n",
    "Repeat section 3. Does your model have a different learning curve from the first? Plot the learning curves for the first and second model on the same graph, to compare them. Comment: is there a more rapid reduction of error-rate with training set size for your second model?  "
   ]
  },
  {
   "cell_type": "code",
   "execution_count": 23,
   "metadata": {},
   "outputs": [],
   "source": [
    "newmod = []"
   ]
  },
  {
   "cell_type": "code",
   "execution_count": 52,
   "metadata": {},
   "outputs": [],
   "source": [
    "import numpy as np\n",
    "import matplotlib.pyplot as plt\n",
    "import tensorflow as tf\n",
    "from keras.models import Sequential,Model\n",
    "from keras.layers import Input,Dense,Conv2D,MaxPooling2D, Dropout\n",
    "from keras.layers import BatchNormalization, Activation, LeakyReLU, Add, Concatenate, Flatten\n",
    "from keras.regularizers import l1,l2, l1_l2\n",
    "from keras.initializers import truncated_normal, glorot_normal\n",
    "from keras.utils.np_utils import to_categorical\n",
    "from keras.datasets import mnist\n",
    "\n",
    "(x_train,y_train),(x_test,y_test) = mnist.load_data()"
   ]
  },
  {
   "cell_type": "code",
   "execution_count": 53,
   "metadata": {},
   "outputs": [
    {
     "data": {
      "text/plain": [
       "((60000, 10), (10000, 10))"
      ]
     },
     "execution_count": 53,
     "metadata": {},
     "output_type": "execute_result"
    }
   ],
   "source": [
    "import random\n",
    "#x_train[:4000,:,:].shape,y_train[:4000,].shape\n",
    "x_train = x_train.reshape([60000,28,28,1])\n",
    "x_test = x_test.reshape([10000,28,28,1])\n",
    "y_train_oh = to_categorical(y_train)\n",
    "y_test_oh = to_categorical(y_test)\n",
    "y_train_oh.shape, y_test_oh.shape"
   ]
  },
  {
   "cell_type": "code",
   "execution_count": 16,
   "metadata": {},
   "outputs": [],
   "source": [
    "model = Sequential()\n",
    "model.add(Conv2D(36,(3,3),activation='relu',padding='same',input_shape=(28,28,1)))\n",
    "model.add(Conv2D(36,(1,1),activation='relu',padding='same'))\n",
    "\n",
    "model.add(Conv2D(48,(3,3),activation='relu',padding='valid')) \n",
    "model.add(Conv2D(48,(3,3),activation='relu',padding='valid'))\n",
    "\n",
    "model.add(Conv2D(96,(3,3),activation='relu',padding='valid')) \n",
    "\n",
    "model.add(Flatten())\n",
    "model.add(Dense(20,activation='relu'))  \n",
    "model.add(Dense(10,activation='sigmoid'))\n"
   ]
  },
  {
   "cell_type": "code",
   "execution_count": 17,
   "metadata": {},
   "outputs": [
    {
     "name": "stdout",
     "output_type": "stream",
     "text": [
      "Train on 10000 samples, validate on 10000 samples\n",
      "Epoch 1/10\n",
      "10000/10000 [==============================] - 89s 9ms/step - loss: 4.8519 - acc: 0.1000 - val_loss: 4.7917 - val_acc: 0.0980\n",
      "Epoch 2/10\n",
      "10000/10000 [==============================] - 88s 9ms/step - loss: 4.8282 - acc: 0.1001 - val_loss: 4.7917 - val_acc: 0.0980\n",
      "Epoch 3/10\n",
      "10000/10000 [==============================] - 88s 9ms/step - loss: 4.8655 - acc: 0.0995 - val_loss: 4.7917 - val_acc: 0.0980\n",
      "Epoch 4/10\n",
      "10000/10000 [==============================] - 87s 9ms/step - loss: 2.5218 - acc: 0.3901 - val_loss: 0.7195 - val_acc: 0.7721\n",
      "Epoch 5/10\n",
      "10000/10000 [==============================] - 88s 9ms/step - loss: 0.2584 - acc: 0.9238 - val_loss: 0.1344 - val_acc: 0.9590\n",
      "Epoch 6/10\n",
      "10000/10000 [==============================] - 88s 9ms/step - loss: 0.0991 - acc: 0.9727 - val_loss: 0.1330 - val_acc: 0.9661\n",
      "Epoch 7/10\n",
      "10000/10000 [==============================] - 87s 9ms/step - loss: nan - acc: 0.4270 - val_loss: nan - val_acc: 0.0980\n",
      "Epoch 8/10\n",
      "10000/10000 [==============================] - 87s 9ms/step - loss: nan - acc: 0.1001 - val_loss: nan - val_acc: 0.0980\n",
      "Epoch 9/10\n",
      "10000/10000 [==============================] - 87s 9ms/step - loss: nan - acc: 0.1001 - val_loss: nan - val_acc: 0.0980\n",
      "Epoch 10/10\n",
      "10000/10000 [==============================] - 88s 9ms/step - loss: nan - acc: 0.1001 - val_loss: nan - val_acc: 0.0980\n"
     ]
    }
   ],
   "source": [
    "model.compile(optimizer='RMSprop',loss='categorical_crossentropy', metrics=['accuracy'])\n",
    "train_size = 10000\n",
    "np.sum( y_train_oh[:train_size,:],axis=0)\n",
    "history_1 = model.fit( x_train[:train_size,:,:,:],y_train_oh[:train_size,:],\n",
    "                        epochs=10, batch_size=64, shuffle=True,\n",
    "                       validation_data=(x_test,y_test_oh))"
   ]
  },
  {
   "cell_type": "code",
   "execution_count": 18,
   "metadata": {},
   "outputs": [
    {
     "name": "stdout",
     "output_type": "stream",
     "text": [
      "0.902\n"
     ]
    }
   ],
   "source": [
    "pred = model.predict(x_test)\n",
    "predclass = np.argmax(pred, axis=1)\n",
    "prederror = np.not_equal(predclass,y_test)\n",
    "print(np.mean(y_test!=predclass))\n"
   ]
  },
  {
   "cell_type": "code",
   "execution_count": 54,
   "metadata": {},
   "outputs": [],
   "source": [
    "# your code here\n",
    "model = Sequential()\n",
    "model.add(Conv2D(36,(3,3),activation='relu',padding='same',input_shape=(28,28,1), kernel_regularizer=l1(0.000)))\n",
    "model.add(Conv2D(36,(1,1),activation='relu',padding='same', kernel_regularizer=l1(0.0001)))\n",
    "#model.add(Dropout(0.1))\n",
    "model.add(Conv2D(48,(3,3),activation='relu',padding='valid', kernel_regularizer=l1(0.0001))) \n",
    "model.add(Dropout(0.25))\n",
    "model.add(Conv2D(48,(3,3),activation='relu',padding='valid', kernel_regularizer=l1(0.0001))) \n",
    "model.add(Dropout(0.25))\n",
    "model.add(Conv2D(96,(3,3),activation='relu',padding='valid', kernel_regularizer=l1(0.0001))) \n",
    "model.add(Dropout(0.25))\n",
    "model.add(Flatten())\n",
    "model.add(Dense(20,activation='relu',kernel_regularizer=l2(0.00001)))\n",
    "model.add(Dense(10,activation='sigmoid'))"
   ]
  },
  {
   "cell_type": "code",
   "execution_count": 55,
   "metadata": {},
   "outputs": [
    {
     "name": "stdout",
     "output_type": "stream",
     "text": [
      "Train on 10000 samples, validate on 10000 samples\n",
      "Epoch 1/10\n",
      "10000/10000 [==============================] - 110s 11ms/step - loss: 2.2225 - acc: 0.1142 - val_loss: 1.8118 - val_acc: 0.1758\n",
      "Epoch 2/10\n",
      "10000/10000 [==============================] - 109s 11ms/step - loss: 1.4263 - acc: 0.1708 - val_loss: 1.1043 - val_acc: 0.2118\n",
      "Epoch 3/10\n",
      "10000/10000 [==============================] - 109s 11ms/step - loss: 0.8569 - acc: 0.4870 - val_loss: 0.5556 - val_acc: 0.9038\n",
      "Epoch 4/10\n",
      "10000/10000 [==============================] - 108s 11ms/step - loss: 0.3189 - acc: 0.9488 - val_loss: 0.3405 - val_acc: 0.9334\n",
      "Epoch 5/10\n",
      "10000/10000 [==============================] - 108s 11ms/step - loss: nan - acc: 0.7115 - val_loss: nan - val_acc: 0.0980\n",
      "Epoch 6/10\n",
      "10000/10000 [==============================] - 109s 11ms/step - loss: nan - acc: 0.1001 - val_loss: nan - val_acc: 0.0980\n",
      "Epoch 7/10\n",
      "10000/10000 [==============================] - 108s 11ms/step - loss: nan - acc: 0.1001 - val_loss: nan - val_acc: 0.0980\n",
      "Epoch 8/10\n",
      "10000/10000 [==============================] - 108s 11ms/step - loss: nan - acc: 0.1001 - val_loss: nan - val_acc: 0.0980\n",
      "Epoch 9/10\n",
      "10000/10000 [==============================] - 108s 11ms/step - loss: nan - acc: 0.1001 - val_loss: nan - val_acc: 0.0980\n",
      "Epoch 10/10\n",
      "10000/10000 [==============================] - 107s 11ms/step - loss: nan - acc: 0.1001 - val_loss: nan - val_acc: 0.0980\n"
     ]
    }
   ],
   "source": [
    "model.compile(optimizer='RMSprop',loss='categorical_crossentropy', metrics=['accuracy'])\n",
    "train_size = 10000\n",
    "np.sum( y_train_oh[:train_size,:],axis=0)\n",
    "history_1 = model.fit( x_train[:train_size,:,:,:],y_train_oh[:train_size,:],\n",
    "                        epochs=10, batch_size=64, shuffle=True,\n",
    "                       validation_data=(x_test,y_test_oh))"
   ]
  },
  {
   "cell_type": "code",
   "execution_count": 56,
   "metadata": {},
   "outputs": [
    {
     "data": {
      "text/plain": [
       "[0.8914, 0.902, 0.902, 0.027, 0.902]"
      ]
     },
     "execution_count": 56,
     "metadata": {},
     "output_type": "execute_result"
    }
   ],
   "source": [
    "pred = model.predict(x_test)\n",
    "predclass = np.argmax(pred, axis=1)\n",
    "prederror = np.not_equal(predclass,y_test)\n",
    "newmod.append(np.mean(y_test!=predclass))\n",
    "newmod"
   ]
  },
  {
   "cell_type": "code",
   "execution_count": 60,
   "metadata": {},
   "outputs": [
    {
     "data": {
      "text/plain": [
       "Text(0.5, 0, 'Training set size')"
      ]
     },
     "execution_count": 60,
     "metadata": {},
     "output_type": "execute_result"
    },
    {
     "data": {
      "image/png": "[encoded data removed]",
      "text/plain": [
       "<Figure size 432x288 with 1 Axes>"
      ]
     },
     "metadata": {
      "needs_background": "light"
     },
     "output_type": "display_data"
    }
   ],
   "source": [
    "plt.loglog(range(2000,12000,2000),newmod)\n",
    "plt.ylabel('Validation Error')\n",
    "plt.xlabel('Training set size')"
   ]
  },
  {
   "cell_type": "code",
   "execution_count": 61,
   "metadata": {},
   "outputs": [],
   "source": [
    "meter = []"
   ]
  },
  {
   "cell_type": "code",
   "execution_count": 88,
   "metadata": {},
   "outputs": [],
   "source": [
    "import numpy as np\n",
    "import matplotlib.pyplot as plt\n",
    "import tensorflow as tf\n",
    "from keras.models import Sequential,Model\n",
    "from keras.layers import Input,Dense,Conv2D,MaxPooling2D, Dropout\n",
    "from keras.layers import BatchNormalization, Activation, LeakyReLU, Add, Concatenate, Flatten\n",
    "from keras.regularizers import l1,l2, l1_l2\n",
    "from keras.initializers import truncated_normal, glorot_normal\n",
    "from keras.utils.np_utils import to_categorical\n",
    "from keras.datasets import mnist\n",
    "\n",
    "(x_train,y_train),(x_test,y_test) = mnist.load_data()"
   ]
  },
  {
   "cell_type": "code",
   "execution_count": 89,
   "metadata": {},
   "outputs": [
    {
     "data": {
      "text/plain": [
       "((60000, 10), (10000, 10))"
      ]
     },
     "execution_count": 89,
     "metadata": {},
     "output_type": "execute_result"
    }
   ],
   "source": [
    "import random\n",
    "#x_train[:4000,:,:].shape,y_train[:4000,].shape\n",
    "x_train = x_train.reshape([60000,28,28,1])\n",
    "x_test = x_test.reshape([10000,28,28,1])\n",
    "y_train_oh = to_categorical(y_train)\n",
    "y_test_oh = to_categorical(y_test)\n",
    "y_train_oh.shape, y_test_oh.shape"
   ]
  },
  {
   "cell_type": "code",
   "execution_count": 90,
   "metadata": {},
   "outputs": [],
   "source": [
    "model = Sequential()\n",
    "model.add(Conv2D(36,(3,3),activation='relu',padding='same',input_shape=(28,28,1), kernel_regularizer=l1(0.000)))\n",
    "model.add(Conv2D(36,(1,1),activation='relu',padding='same', kernel_regularizer=l1(0.0001)))\n",
    "model.add(Dropout(0.1))\n",
    "model.add(Conv2D(48,(3,3),activation='relu',padding='valid', kernel_regularizer=l1(0.0001))) \n",
    "model.add(Dropout(0.25))\n",
    "model.add(Conv2D(48,(3,3),activation='relu',padding='valid', kernel_regularizer=l1(0.0001))) \n",
    "model.add(Dropout(0.25))\n",
    "model.add(Conv2D(96,(3,3),activation='relu',padding='valid', kernel_regularizer=l1(0.0001))) \n",
    "model.add(Dropout(0.25))\n",
    "model.add(Flatten())\n",
    "\n",
    "model.add(Dense(20,activation='relu',kernel_regularizer=l2(0.00001)))\n",
    "model.add(Dense(10,activation='sigmoid'))"
   ]
  },
  {
   "cell_type": "code",
   "execution_count": 91,
   "metadata": {},
   "outputs": [
    {
     "name": "stdout",
     "output_type": "stream",
     "text": [
      "Train on 8000 samples, validate on 10000 samples\n",
      "Epoch 1/10\n",
      "8000/8000 [==============================] - 109s 14ms/step - loss: 2.5077 - acc: 0.1390 - val_loss: 1.8074 - val_acc: 0.1326\n",
      "Epoch 2/10\n",
      "8000/8000 [==============================] - 104s 13ms/step - loss: 1.5295 - acc: 0.1155 - val_loss: 1.2017 - val_acc: 0.1032\n",
      "Epoch 3/10\n",
      "8000/8000 [==============================] - 104s 13ms/step - loss: 1.1429 - acc: 0.1064 - val_loss: 1.0183 - val_acc: 0.1011\n",
      "Epoch 4/10\n",
      "8000/8000 [==============================] - 104s 13ms/step - loss: 0.9507 - acc: 0.1084 - val_loss: 0.9093 - val_acc: 0.1027\n",
      "Epoch 5/10\n",
      "8000/8000 [==============================] - 103s 13ms/step - loss: 0.8783 - acc: 0.1207 - val_loss: 0.9306 - val_acc: 0.1227\n",
      "Epoch 6/10\n",
      "8000/8000 [==============================] - 103s 13ms/step - loss: 0.8547 - acc: 0.1444 - val_loss: 0.8350 - val_acc: 0.1447\n",
      "Epoch 7/10\n",
      "8000/8000 [==============================] - 103s 13ms/step - loss: 0.8112 - acc: 0.1556 - val_loss: 0.8389 - val_acc: 0.1491\n",
      "Epoch 8/10\n",
      "8000/8000 [==============================] - 103s 13ms/step - loss: 0.8016 - acc: 0.1713 - val_loss: 0.8875 - val_acc: 0.2390\n",
      "Epoch 9/10\n",
      "8000/8000 [==============================] - 102s 13ms/step - loss: 0.7802 - acc: 0.1891 - val_loss: 0.8047 - val_acc: 0.1719\n",
      "Epoch 10/10\n",
      "8000/8000 [==============================] - 103s 13ms/step - loss: 0.7697 - acc: 0.1779 - val_loss: 0.8117 - val_acc: 0.1846\n"
     ]
    }
   ],
   "source": [
    "model.compile(optimizer='RMSprop',loss='categorical_crossentropy', metrics=['accuracy'])\n",
    "train_size = 8000\n",
    "np.sum( y_train_oh[:train_size,:],axis=0)\n",
    "history_1 = model.fit( x_train[:train_size,:,:,:],y_train_oh[:train_size,:],\n",
    "                        epochs=10, batch_size=64, shuffle=True,\n",
    "                       validation_data=(x_test,y_test_oh))"
   ]
  },
  {
   "cell_type": "code",
   "execution_count": 92,
   "metadata": {},
   "outputs": [
    {
     "data": {
      "text/plain": [
       "[0.902, 0.902, 0.902, 0.902, 0.8154]"
      ]
     },
     "execution_count": 92,
     "metadata": {},
     "output_type": "execute_result"
    }
   ],
   "source": [
    "pred = model.predict(x_test)\n",
    "predclass = np.argmax(pred, axis=1)\n",
    "prederror = np.not_equal(predclass,y_test)\n",
    "meter.append(np.mean(y_test!=predclass))\n",
    "meter"
   ]
  },
  {
   "cell_type": "code",
   "execution_count": 94,
   "metadata": {},
   "outputs": [
    {
     "data": {
      "text/plain": [
       "Text(0, 0.5, 'Validation set error')"
      ]
     },
     "execution_count": 94,
     "metadata": {},
     "output_type": "execute_result"
    },
    {
     "data": {
      "image/png": "[encoded data removed]",
      "text/plain": [
       "<Figure size 432x288 with 1 Axes>"
      ]
     },
     "metadata": {
      "needs_background": "light"
     },
     "output_type": "display_data"
    }
   ],
   "source": [
    "plt.plot(range(0,5),meter)\n",
    "plt.xlabel('No. of regularizations')\n",
    "plt.ylabel('Validation set error')"
   ]
  },
  {
   "cell_type": "code",
   "execution_count": null,
   "metadata": {},
   "outputs": [],
   "source": []
  }
 ],
 "metadata": {
  "kernelspec": {
   "display_name": "Python 3",
   "language": "python",
   "name": "python3"
  },
  "language_info": {
   "codemirror_mode": {
    "name": "ipython",
    "version": 3
   },
   "file_extension": ".py",
   "mimetype": "text/x-python",
   "name": "python",
   "nbconvert_exporter": "python",
   "pygments_lexer": "ipython3",
   "version": "3.6.8"
  }
 },
 "nbformat": 4,
 "nbformat_minor": 2
}
